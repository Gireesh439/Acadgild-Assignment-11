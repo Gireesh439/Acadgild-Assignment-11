{
 "cells": [
  {
   "cell_type": "markdown",
   "metadata": {},
   "source": [
    "### AcadGild Assignment 11.1\n",
    "\n",
    "This assignment is for visualization using matplotlib:\n",
    "data to use:\n",
    "url=\n",
    "https://raw.githubusercontent.com/Geoyi/Cleaning-Titanic-Data/master/titanic_origina\n",
    "l.csv'\n",
    "titanic = pd.read_csv(url)\n",
    "Charts to plot:\n",
    "1. Create a pie chart presenting the male/female proportion\n",
    "2. Create a scatterplot with the Fare paid and the Age, differ the plot color by gender"
   ]
  },
  {
   "cell_type": "code",
   "execution_count": null,
   "metadata": {},
   "outputs": [],
   "source": [
    "import pandas as pd\n",
    "import numpy as np\n",
    "import os\n",
    "\n",
    "data = pd.read_csv(\"https://raw.githubusercontent.com/Geoyi/Cleaning-Titanic-Data/master/titanic_original.csv\")\n",
    "\n",
    "data.head(5)"
   ]
  },
  {
   "cell_type": "markdown",
   "metadata": {},
   "source": [
    "\n",
    "-- Create a pie chart showing the proportion passengers by gender"
   ]
  },
  {
   "cell_type": "code",
   "execution_count": null,
   "metadata": {},
   "outputs": [],
   "source": [
    "import matplotlib.pyplot as plt\n",
    "# separate out gender data\n",
    "gender_data=data['sex'].value_counts()\n",
    "\n",
    "# Convert gender str to (float) for plotting\n",
    "gender_data = gender_data.astype(float)\n",
    "\n",
    "# set chart vars\n",
    "fig = plt.figure(figsize=(7,4))\n",
    "ax = fig.add_axes((0,0,.5,1))\n",
    "ax.set_title('          Gender Distribution on the Titanic         ', \n",
    "             bbox={'facecolor':'white', 'pad':5})\n",
    "labels = 'Male', 'Female'\n",
    "colors = ['gold', 'steelblue']\n",
    "explode = (0.1, 0)  # explode 1st slice\n",
    " \n",
    "# Pacman Plot (angle 70 - color gold) :)\n",
    "plt.pie(gender_data, explode=explode, labels=labels, colors=colors,\n",
    "        autopct='%1.1f%%', shadow=True, startangle=70)\n",
    " \n",
    "plt.axis('equal')\n",
    "plt.show()"
   ]
  },
  {
   "cell_type": "markdown",
   "metadata": {},
   "source": [
    "\n",
    "-- create a scatterplot by fare paid and age, colored by gender\n"
   ]
  },
  {
   "cell_type": "code",
   "execution_count": null,
   "metadata": {},
   "outputs": [],
   "source": [
    "import seaborn as sns\n",
    "\n",
    "seaborn.set(style='ticks') # I like the ticks :)\n",
    "\n",
    "sns.lmplot(x='fare', y='age', data=data,\n",
    "           fit_reg=True, # Show regression line\n",
    "           hue='sex',    # Color by gender\n",
    "           scatter_kws={'alpha':0.3}) # use alpha to show concentration\n",
    "\n"
   ]
  },
  {
   "cell_type": "code",
   "execution_count": null,
   "metadata": {},
   "outputs": [],
   "source": []
  }
 ],
 "metadata": {
  "kernelspec": {
   "display_name": "Python 3",
   "language": "python",
   "name": "python3"
  },
  "language_info": {
   "codemirror_mode": {
    "name": "ipython",
    "version": 3
   },
   "file_extension": ".py",
   "mimetype": "text/x-python",
   "name": "python",
   "nbconvert_exporter": "python",
   "pygments_lexer": "ipython3",
   "version": "3.6.5"
  }
 },
 "nbformat": 4,
 "nbformat_minor": 2
}
